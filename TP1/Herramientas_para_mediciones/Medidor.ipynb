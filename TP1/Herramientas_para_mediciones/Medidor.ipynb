{
 "cells": [
  {
   "cell_type": "code",
   "execution_count": null,
   "metadata": {},
   "outputs": [],
   "source": [
    "from random import seed\n",
    "from matplotlib import pyplot as plt\n",
    "import seaborn as sns\n",
    "import numpy as np\n",
    "import scipy as sp\n",
    "from lista_doblemente_enlazada import *\n",
    "import glob\n",
    "from util import time_algorithm\n",
    "seed(12345)\n",
    "np.random.seed(12345)\n",
    "sns.set_theme()"
   ]
  },
  {
   "cell_type": "code",
   "execution_count": null,
   "metadata": {},
   "outputs": [],
   "source": [
    "#Algoritmo Greedy usado en tp1.py\n",
    "def verificar_coincidencia_timestamps(t,s):\n",
    "    solucion = []\n",
    "    t_ord = ListaDoblementeEnlazada(sorted(t, key = lambda x: x[0] + x[1]))\n",
    "    \n",
    "    for timestamp in s:\n",
    "        flag = False\n",
    "        \n",
    "        for nodo in t_ord:\n",
    "            aproximacion, error = nodo.get_valor()\n",
    "            inicio = aproximacion - error\n",
    "            fin = aproximacion + error\n",
    "\n",
    "            if inicio <= timestamp <= fin:\n",
    "                flag = True\n",
    "                t_ord.borrar_elemento(nodo)\n",
    "                solucion.append((timestamp, aproximacion, error))\n",
    "                break\n",
    "        \n",
    "        if flag == False: # No se seleccionó intervalo -> el problema no tiene solución.\n",
    "            return None\n",
    "\n",
    "    return solucion"
   ]
  },
  {
   "cell_type": "code",
   "execution_count": null,
   "metadata": {},
   "outputs": [],
   "source": [
    "# Función get_args para el time_algorithm\n",
    "def get_args(size):\n",
    "    archivos = glob.glob(f\"Archivos_para_tests_automatizados/{size}-es*.txt\")  # Encuentra todos los archivos que coincidan con el patron\n",
    "    if not archivos:\n",
    "        raise FileNotFoundError(f\"No se encontraron archivos para {size}-es*.txt\")\n",
    "\n",
    "    t_total, s_total = [], []\n",
    "\n",
    "    for archivo in archivos:\n",
    "        t, s = procesar_archivo_entrada(archivo)\n",
    "        t_total.extend(t)\n",
    "        s_total.extend(s)\n",
    "\n",
    "    return t_total, s_total\n",
    "\n",
    "def procesar_archivo_entrada(archivo):\n",
    "    with open(archivo, 'r') as file:\n",
    "        lines = file.readlines()\n",
    "\n",
    "    n = int(lines[1].strip())\n",
    "\n",
    "    t = [tuple(map(int, x.strip().split(','))) for x in lines[2:2 + n]]\n",
    "    s = [int(x) for x in lines[2 + n:2 + 2 * n]]\n",
    "    return t, s"
   ]
  },
  {
   "cell_type": "code",
   "execution_count": null,
   "metadata": {},
   "outputs": [],
   "source": [
    "#Generador de resultados para las mediciones del algoritmo Greedy\n",
    "\n",
    "x = np.array([\n",
    "            5, 10, 50, 100, 250, \n",
    "            500, 750, 1000, 2500, \n",
    "            5000, 7500, 8500, 10000, \n",
    "            12000, 13500, 15000, 17500, \n",
    "            18000, 20000, 21000, 25000, \n",
    "            30000, 32500, 35000, 40000, \n",
    "            45000, 50000, 55000, 60000,\n",
    "            100000, 200000, 300000, 400000, \n",
    "            500000, 600000, 700000, 800000, \n",
    "            900000, 1000000, 1100000, 1200000, \n",
    "            1300000, 1400000, 1500000, 1600000, \n",
    "            1700000, 1800000, 1900000, 2000000\n",
    "            ])\n",
    "results = time_algorithm(verificar_coincidencia_timestamps, x, get_args)"
   ]
  },
  {
   "cell_type": "code",
   "execution_count": null,
   "metadata": {},
   "outputs": [],
   "source": [
    "#Funciones a usar para las mediciones y aproximaciones dadas por la catedra\n",
    "f_nlogn = lambda x, c1, c2: c1 * x * np.log(x) + c2 \n",
    "f_n2 = lambda x, c1, c2: c1 * x**2 + c2\n",
    "\n",
    "c_nlogn, _ = sp.optimize.curve_fit(f_nlogn, x, [results[n] for n in x])\n",
    "c_n2, _ = sp.optimize.curve_fit(f_n2, x, [results[n] for n in x])"
   ]
  },
  {
   "cell_type": "code",
   "execution_count": null,
   "metadata": {},
   "outputs": [],
   "source": [
    "#Imprime los resultados de las mediciones en el formato dado\n",
    "for k, v in results.items():\n",
    "    print(f\"tamaño: {k} tiempo: {v}\\n\")"
   ]
  },
  {
   "cell_type": "code",
   "execution_count": null,
   "metadata": {},
   "outputs": [],
   "source": [
    "#Imprime la suma de los tiempos promedio\n",
    "print(f\"Suma de los tiempos promedio: \",sum(results.values()))"
   ]
  },
  {
   "cell_type": "code",
   "execution_count": null,
   "metadata": {},
   "outputs": [],
   "source": [
    "#Crea el grafico del algoritmo Greedy por cantidad de elementos en funcion del tiempo (s)\n",
    "ax: plt.Axes\n",
    "fig, ax = plt.subplots()\n",
    "ax.plot(x, [results[i] for i in x], label=\"Medición\")\n",
    "ax.set_title('Tiempo de ejecución promedio del algoritmo greedy')\n",
    "ax.set_xlabel('Tamaño del arreglo de timestamps')\n",
    "ax.set_ylabel('Tiempo de ejecución (s)')\n",
    "None"
   ]
  },
  {
   "cell_type": "code",
   "execution_count": null,
   "metadata": {},
   "outputs": [],
   "source": [
    "#Crea un grafico como el anterior incluyendo el ajuste a la funcion cuadratica y la lineal logaritmica\n",
    "ax: plt.Axes\n",
    "fig, ax = plt.subplots()\n",
    "ax.plot(x, [results[n] for n in x], \"bo-\", label=\"Medición\")\n",
    "ax.plot(x, [f_nlogn(n, c_nlogn[0], c_nlogn[1]) for n in x], 'r--', label=\"Ajuste $n log(n)$\")\n",
    "ax.plot(x, [f_n2(n, c_n2[0], c_n2[1]) for n in x], 'g--', label=\"Ajuste $n^2$\")\n",
    "ax.set_yticks(np.linspace(0, max(results.values()) * 1.2, 10))\n",
    "ax.set_title('Tiempo de ejecución promedio con ajustes')\n",
    "ax.set_xlabel('Tamaño de datos')\n",
    "ax.set_ylabel('Tiempo de ejecución (s)')\n",
    "ax.legend()\n",
    "None"
   ]
  },
  {
   "cell_type": "code",
   "execution_count": null,
   "metadata": {},
   "outputs": [],
   "source": [
    "#Crea un grafico que muestra el error de ajuste que hay con la cuadratica y la lineal logaritmica\n",
    "errors_n2 = [np.abs(c_n2[0] * n**2 + c_n2[1] - results[n]) for n in x]\n",
    "errors_nlogn = [np.abs(c_nlogn[0] * n * np.log(n) + c_nlogn[1] - results[n]) for n in x]\n",
    "print(f\"Error cuadrático total para n^2: {np.sum(np.power(errors_n2, 2))}\")\n",
    "\n",
    "ax: plt.Axes\n",
    "fig, ax = plt.subplots()\n",
    "ax.plot(x, errors_n2, label=\"Ajuste $n^2$\")\n",
    "ax.plot(x, errors_nlogn, label=\"Ajuste $n \\log(n)$\")\n",
    "ax.set_title('Error de ajuste')\n",
    "ax.set_xlabel('Tamaño de datos')\n",
    "ax.set_ylabel('Error absoluto (s)')\n",
    "ax.legend()\n",
    "None"
   ]
  },
  {
   "cell_type": "code",
   "execution_count": null,
   "metadata": {},
   "outputs": [],
   "source": [
    "#Crea un grafico de la medicion con puntos discretos parecido al visto anteriormente\n",
    "\n",
    "x_fit = np.linspace(min(x), max(x), 1000)\n",
    "y_nlogn = f_nlogn(x_fit, *c_nlogn)\n",
    "y_n2 = f_n2(x_fit, *c_n2)\n",
    "\n",
    "plt.figure()\n",
    "plt.scatter(x, [results[n] for n in x], color='r', label='Puntos Discretos', marker='o')\n",
    "plt.plot(x_fit, y_nlogn, color='g', label='Ajuste O(n log n)')\n",
    "plt.plot(x_fit, y_n2, color='b', label='Ajuste O(n²)')\n",
    "\n",
    "plt.title('Tiempo de ejecución promedio con ajustes')\n",
    "plt.xlabel('Tamaño de datos (n)')\n",
    "plt.ylabel('Tiempo de ejecucion (s)')\n",
    "plt.legend()\n",
    "plt.grid(True)\n",
    "plt.show()"
   ]
  }
 ],
 "metadata": {
  "kernelspec": {
   "display_name": "mi_entorno",
   "language": "python",
   "name": "python3"
  },
  "language_info": {
   "codemirror_mode": {
    "name": "ipython",
    "version": 3
   },
   "file_extension": ".py",
   "mimetype": "text/x-python",
   "name": "python",
   "nbconvert_exporter": "python",
   "pygments_lexer": "ipython3",
   "version": "3.12.3"
  }
 },
 "nbformat": 4,
 "nbformat_minor": 2
}
